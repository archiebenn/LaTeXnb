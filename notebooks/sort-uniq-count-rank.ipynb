{
 "cells": [
  {
   "cell_type": "markdown",
   "id": "25ce4af4",
   "metadata": {},
   "source": [
    "# `sort-uniq-count-rank`\n",
    "For organising counts in datasets\n",
    "- Essentially runs `sort | uniq -c | sort -rn`"
   ]
  },
  {
   "cell_type": "markdown",
   "id": "1973918a",
   "metadata": {},
   "source": [
    "## Example uses\n"
   ]
  },
  {
   "cell_type": "markdown",
   "id": "a9c9628a",
   "metadata": {},
   "source": [
    "```bash \n",
    "cat vombaticus.gff3 | cut -f 3 | sort-uniq-count-rank\n",
    "\n",
    "`386346\texon`\n",
    "`364707\tCDS`\n",
    "`46571\tbiological_region`\n",
    "`40512\t###`\n",
    "`32886\tmRNA`\n",
    "`29973\tfive_prime_UTR`\n",
    "`21114\tgene`\n",
    "`20531\tthree_prime_UTR`\n",
    "`15416\tregion`\n",
    "`3318\tncRNA_gene`\n",
    "`1911\tlnc_RNA`\n",
    "`700\tsnRNA`\n",
    "`577\tpseudogene`\n",
    "`577\tpseudogenic_transcript`\n",
    "`543\tmiRNA`\n",
    "`462\ttranscript`\n",
    "`311\tsnoRNA`\n",
    "`22\ttRNA`\n",
    "`19\tscRNA`\n",
    "`13\trRNA`\n",
    "`6\tY_RNA`\n",
    "`2\tV_gene_segment`\n",
    "`1\t#!genebuild-last-updated 2019-02`\n",
    "`1\t#!genome-build  bare-nosed_wombat_genome_assembly`\n",
    "`1\t#!genome-build-accession GCA_900497805.2`\n",
    "`1\t#!genome-date 2018-12`\n",
    "`1\t#!genome-version bare-nosed_wombat_genome_assembly`\n",
    "`1\t##gff-version 3`\n",
    "`1\tJ_gene_segment`\n",
    "```"
   ]
  }
 ],
 "metadata": {
  "language_info": {
   "name": "python"
  }
 },
 "nbformat": 4,
 "nbformat_minor": 5
}
