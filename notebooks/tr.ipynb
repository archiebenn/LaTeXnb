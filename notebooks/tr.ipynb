{
 "cells": [
  {
   "cell_type": "markdown",
   "id": "4cf7c5b0",
   "metadata": {},
   "source": [
    "# `tr`\n",
    "For 'trapping' stdin. Takes input and translates, squeezes, or deletes characters. Use with `echo`, pipes, or redirections."
   ]
  },
  {
   "cell_type": "markdown",
   "id": "6b922585",
   "metadata": {},
   "source": [
    "## Syntax\n",
    "```bash\n",
    "tr [OPTION] SET1 [SET2]\n",
    "```"
   ]
  },
  {
   "cell_type": "markdown",
   "id": "2050aa84",
   "metadata": {},
   "source": [
    "## Useful flags\n",
    "```bash\n",
    "(none)\n",
    "```\n",
    "&rarr; Translate SET1 to SET2\n",
    "\n",
    "```bash\n",
    "tr -d\n",
    "```\n",
    "&rarr; Delete characters in SET1\n",
    "\n",
    "```bash\n",
    "tr -s\n",
    "```\n",
    "&rarr; Squeeze repeated characters into one\n",
    "\n",
    "```bash\n",
    "tr -c\n",
    "```\n",
    "&rarr; Complement SET1 (ie match everything else)"
   ]
  },
  {
   "cell_type": "markdown",
   "id": "a98a9509",
   "metadata": {},
   "source": [
    "## Example uses\n",
    "```bash\n",
    "echo \"hello\" | tr 'a-z' 'A-Z'\n",
    "```\n",
    "&rarr; `HELLO`"
   ]
  },
  {
   "cell_type": "markdown",
   "id": "9ce7f08f",
   "metadata": {},
   "source": [
    "```bash\n",
    "`tr \"\\n\" \" \"\n",
    "```\n",
    "&rarr; Converts newlines to spaces"
   ]
  },
  {
   "cell_type": "markdown",
   "id": "f53c52dc",
   "metadata": {},
   "source": [
    "```bash\n",
    "echo \"hello 123\" | tr -d '0-9'\n",
    "```\n",
    "&rarr; `hello` (deletes characters - numbers here)"
   ]
  },
  {
   "cell_type": "markdown",
   "id": "cdfba022",
   "metadata": {},
   "source": [
    "```bash\n",
    "tr -d '\\n' < file.txt\n",
    "```\n",
    "&rarr; Removes newlines (flattens text)"
   ]
  }
 ],
 "metadata": {
  "language_info": {
   "name": "python"
  }
 },
 "nbformat": 4,
 "nbformat_minor": 5
}
