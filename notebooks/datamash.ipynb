{
 "cells": [
  {
   "cell_type": "markdown",
   "id": "9f7c3062",
   "metadata": {},
   "source": [
    "# `datamash`\n",
    "For quick stats from CLI"
   ]
  },
  {
   "cell_type": "markdown",
   "id": "91264030",
   "metadata": {},
   "source": [
    "## Syntax\n",
    "```bash\n",
    "datamash [OPTIONS] operation column\n",
    "```"
   ]
  },
  {
   "cell_type": "markdown",
   "id": "b1c6234f",
   "metadata": {},
   "source": [
    "## Useful operations\n",
    "```bash\n",
    "count\n",
    "```\n",
    "&rarr; Number of rows\n",
    "\n",
    "```bash\n",
    "sum\n",
    "```\n",
    "&rarr; Sum of numeric values\n",
    "\n",
    "```bash\n",
    "mean\n",
    "```\n",
    "&rarr; Average\n",
    "\n",
    "```bash\n",
    "min/max\n",
    "```\n",
    "&rarr; Minimum/Maximum\n",
    "\n",
    "```bash\n",
    "uniq\n",
    "```\n",
    "&rarr; Unique values (sort first)\n",
    "\n",
    "```bash\n",
    "groupby\n",
    "```\n",
    "&rarr; Group rows by a column (use with sort)\n"
   ]
  },
  {
   "cell_type": "markdown",
   "id": "5ca860d9",
   "metadata": {},
   "source": [
    "## Useful flags\n",
    "```bash\n",
    "-t <DELIM>\n",
    "```\n",
    "&rarr; Set field delimiter (e.g -t',' to separate by commas for .csv)"
   ]
  },
  {
   "cell_type": "markdown",
   "id": "087d36e2",
   "metadata": {},
   "source": [
    "## Example uses\n",
    "```bash\n",
    "datamash -t',' sum 2 < data.csv\n",
    "```\n",
    "&rarr; Sums 2nd column"
   ]
  },
  {
   "cell_type": "markdown",
   "id": "8d8adf70",
   "metadata": {},
   "source": [
    "```bash\n",
    "#Compute mean for 1st column in .txt\n",
    "cat gene_counts.txt | datamash  mean 1\n",
    "30.785308441558\n",
    "```\n",
    "&rarr; Compute mean for 1st column in .txt file"
   ]
  }
 ],
 "metadata": {
  "language_info": {
   "name": "python"
  }
 },
 "nbformat": 4,
 "nbformat_minor": 5
}
