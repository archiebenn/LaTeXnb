{
 "cells": [
  {
   "cell_type": "markdown",
   "id": "f13bfbdc",
   "metadata": {},
   "source": [
    "# `cut`\n",
    "For extracting sections of lines from input to stdout"
   ]
  },
  {
   "cell_type": "markdown",
   "id": "6249b859",
   "metadata": {},
   "source": [
    "## Useful flags\n",
    "```bash\n",
    "cut -f\n",
    "```\n",
    "&rarr; Field numbers (use with -d)\n",
    "\n",
    "```bash\n",
    "cut -d\n",
    "```\n",
    "&rarr; Cut delimiter (default: TAB)"
   ]
  },
  {
   "cell_type": "markdown",
   "id": "e1b25d4d",
   "metadata": {},
   "source": [
    "## Example uses\n",
    "```bash\n",
    "cut -d',' -f2 data.csv\n",
    "```\n",
    "&rarr; Extracts second column from data.csv"
   ]
  },
  {
   "cell_type": "markdown",
   "id": "bb9e0477",
   "metadata": {},
   "source": [
    "```bash\n",
    "cut -d',' -f1,3 data.csv\n",
    "```\n",
    "&rarr; Extracts column 1 and 3 from data.csv"
   ]
  },
  {
   "cell_type": "markdown",
   "id": "45aa1ffa",
   "metadata": {},
   "source": [
    "```bash\n",
    "cut -d',' -f2-4 data.csv\n",
    "```\n",
    "&rarr; Extracts columns 2-4 of data.csv"
   ]
  },
  {
   "cell_type": "markdown",
   "id": "3720bcdd",
   "metadata": {},
   "source": [
    "```bash\n",
    "echo \"abcdef\" | cut -c2-4\n",
    "```\n",
    "&rarr; Outputs `bcd`"
   ]
  }
 ],
 "metadata": {
  "language_info": {
   "name": "python"
  }
 },
 "nbformat": 4,
 "nbformat_minor": 5
}
