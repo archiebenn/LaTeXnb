{
 "cells": [
  {
   "cell_type": "markdown",
   "id": "5e7e8ba1",
   "metadata": {},
   "source": [
    "# `grep`\n",
    "For finding occurances within files"
   ]
  },
  {
   "cell_type": "markdown",
   "id": "5177cb18",
   "metadata": {},
   "source": [
    "## Useful flags\n",
    "1. `grep -w` to only get exact occurance/whole word instead of part of another.\n",
    "\n",
    "2. `grep -c` to print number of occurances (line counts) to stdout instead of the actual occurances\n",
    "\n",
    "3. `grep -A NUM` for `NUM` count of lines after grep target to stdout"
   ]
  },
  {
   "cell_type": "markdown",
   "id": "8b0d2bd4",
   "metadata": {},
   "source": [
    "## Example uses"
   ]
  },
  {
   "cell_type": "markdown",
   "id": "dc2ec2a4",
   "metadata": {},
   "source": [
    "```bash\n",
    "$ cat vombaticus.gff3 | cut -f 3 | grep tRN\n",
    "\n",
    "tRNA\n",
    "tRNA\n",
    "tRNA\n",
    "tRNA\n",
    "tRNA\n",
    "tRNA\n",
    "tRNA\n",
    "tRNA\n",
    "```"
   ]
  },
  {
   "cell_type": "markdown",
   "id": "8284b740",
   "metadata": {},
   "source": [
    "```bash\n",
    "$ cat vombaticus.gff3 | cut -f 3 | grep -c tRN\n",
    "\n",
    "8\n",
    "```"
   ]
  },
  {
   "cell_type": "markdown",
   "id": "d40db570",
   "metadata": {},
   "source": [
    "```bash\n",
    "$ grep -A1 \">\" file.fa\n",
    "```\n",
    "To find header of new fasta when separated by `>`"
   ]
  }
 ],
 "metadata": {
  "language_info": {
   "name": "python"
  }
 },
 "nbformat": 4,
 "nbformat_minor": 5
}
