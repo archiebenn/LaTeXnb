{
 "cells": [
  {
   "cell_type": "markdown",
   "id": "e75d28e0",
   "metadata": {},
   "source": [
    "# `wget`\n",
    "For recursive downloading files from the internet"
   ]
  }
 ],
 "metadata": {
  "language_info": {
   "name": "python"
  }
 },
 "nbformat": 4,
 "nbformat_minor": 5
}
