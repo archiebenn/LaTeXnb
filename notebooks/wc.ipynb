{
 "cells": [
  {
   "cell_type": "markdown",
   "id": "bd694336",
   "metadata": {},
   "source": [
    "# `wc`\n",
    "For printing wordcount, newline count, and byte counts of file"
   ]
  },
  {
   "cell_type": "markdown",
   "id": "28773360",
   "metadata": {},
   "source": [
    "## Useful flags\n",
    "```bash\n",
    "wc -l\n",
    "```\n",
    "&rarr; Line counts\n",
    "\n",
    "```bash\n",
    "wc -w\n",
    "```\n",
    "&rarr; Word counts\n",
    "\n",
    "```bash\n",
    "wc -c\n",
    "```\n",
    "&rarr; Byte counts\n",
    "\n",
    "```bash\n",
    "wc -m\n",
    "```\n",
    "&rarr; Character counts (UTF-8)"
   ]
  },
  {
   "cell_type": "markdown",
   "id": "84a0a237",
   "metadata": {},
   "source": [
    "## Example uses\n",
    "```bash\n",
    "wc -l file.txt\n",
    "```\n",
    "&rarr; Outputs line count for file.txt"
   ]
  },
  {
   "cell_type": "markdown",
   "id": "6a0615c4",
   "metadata": {},
   "source": [
    "```bash\n",
    "cat file.txt | wc -l\n",
    "```\n",
    "&rarr; Pipe into word count (same output as above)"
   ]
  },
  {
   "cell_type": "markdown",
   "id": "b047d038",
   "metadata": {},
   "source": [
    "```bash\n",
    "grep \"apple\" file.txt | wc -l\n",
    "```\n",
    "&rarr; Counts how many lines contain `apple`"
   ]
  }
 ],
 "metadata": {
  "language_info": {
   "name": "python"
  }
 },
 "nbformat": 4,
 "nbformat_minor": 5
}
